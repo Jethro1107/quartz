{
 "cells": [
  {
   "cell_type": "code",
   "execution_count": 1,
   "id": "2cccde8d",
   "metadata": {},
   "outputs": [
    {
     "data": {
      "text/plain": [
       "'/Users/jethrolai/Desktop/Testing Digital garden/Jethro’s Working Notes'"
      ]
     },
     "execution_count": 1,
     "metadata": {},
     "output_type": "execute_result"
    }
   ],
   "source": [
    "pwd"
   ]
  },
  {
   "cell_type": "code",
   "execution_count": 36,
   "id": "88c17d8d",
   "metadata": {},
   "outputs": [],
   "source": [
    "import glob\n",
    "import shutil\n",
    "\n",
    "for filename in glob.glob(\"*.md\"):\n",
    "    print(f\"Process file : {filename}\")\n",
    "    concat_files(filename)\n",
    "    shutil.copyfile(\"temp.txt\",filename)\n",
    "    "
   ]
  },
  {
   "cell_type": "code",
   "execution_count": 26,
   "id": "01a97720",
   "metadata": {},
   "outputs": [],
   "source": [
    "# Python program to\n",
    "# demonstrate merging\n",
    "# of two files\n",
    "\n",
    "def concat_files(filename):\n",
    "    data = data2 = \"\"\n",
    "  \n",
    "    # Reading data from file1\n",
    "    with open('concat.txt') as fp1:\n",
    "         data = fp1.read()\n",
    "  \n",
    "    # Reading data from file2\n",
    "    with open(filename) as fp2:\n",
    "         data2 = fp2.read()\n",
    "  \n",
    "    # Merging 2 files\n",
    "    # To add the data of file2\n",
    "    # from next line\n",
    "    data += \"\\n\"\n",
    "    data += data2\n",
    "  \n",
    "    filename = \"temp.txt\"\n",
    "    with open (filename, 'w') as fp3:\n",
    "         fp3.write(data)\n",
    "    fp1.close()\n",
    "    fp2.close()\n",
    "    fp3.close()\n",
    "    return\n",
    "\n",
    "filename = \"AXR.md\"\n",
    "concat_files(filename)\n"
   ]
  },
  {
   "cell_type": "code",
   "execution_count": 32,
   "id": "183eef85",
   "metadata": {},
   "outputs": [],
   "source": [
    "with open('AXR.md') as fp:\n",
    "    data = fp.read()"
   ]
  },
  {
   "cell_type": "code",
   "execution_count": 28,
   "id": "89e81447",
   "metadata": {},
   "outputs": [],
   "source": [
    "with open('temp.txt') as fp:\n",
    "    data = fp.read()"
   ]
  },
  {
   "cell_type": "code",
   "execution_count": 31,
   "id": "91ec31b2",
   "metadata": {},
   "outputs": [
    {
     "data": {
      "text/plain": [
       "'AXR.md'"
      ]
     },
     "execution_count": 31,
     "metadata": {},
     "output_type": "execute_result"
    }
   ],
   "source": [
    "import shutil\n",
    "\n",
    "shutil.copyfile(\"temp.txt\",\"AXR.md\")"
   ]
  },
  {
   "cell_type": "code",
   "execution_count": 14,
   "id": "723245ac",
   "metadata": {},
   "outputs": [],
   "source": [
    "data += \"\\n\"\n",
    "data += data2"
   ]
  },
  {
   "cell_type": "code",
   "execution_count": 33,
   "id": "76e50e5f",
   "metadata": {},
   "outputs": [
    {
     "data": {
      "text/plain": [
       "'---\\ndg-publish: true\\n---\\n\\n# AXR\\n\\n  \\n\\nCreated: November 19, 2022 5:23 PM\\n\\nTags: GIS, Medicine, Radiology\\n\\nUpdated: November 19, 2022 5:54 PM\\n\\n  \\n\\n### Plain AXR\\n\\n  \\n\\nPlain abdominal X Ray may reveals the anatomy of the GI tract, and is useful for diganosis of small bowel obstruction and sigmoid volvulus ([[Intestinal obstruction]]).\\n\\n  \\n\\n- ************************************************************************Normal features of an AXR************************************************************************\\n\\nWhen accessing a plain AXR, 3 things are accessed: Gas patterns, fluid levels and the caliber of the bowel.\\n\\n**************************************Normal gas patterns**************************************\\n\\n- Gas is normally present in the stomach.\\n\\n- For non-distended small bowel, 2-3 loops of small bowel may be present.\\n\\n- For large bowel, gas is usually present in the sigmoid colon and rectum.\\n\\n******************************************************Caliber of bowel (diameter)******************************************************\\n\\n- The upper limits of caliber of bowel is 3cm for small bowel, 6cm for colon and 9cm for cecum.\\n\\n************************Fluid levels************************\\n\\nOn erect view:\\n\\n- Fluid levels is usually present in the stomach.\\n\\n- There may be 2-3 fluid levels in the small bowel.\\n\\n- Fluid levels is usually absent in the large bowels.\\n\\nOn supine view, there is no fluid levels.\\n\\n![[Untitled]]\\n\\n- **************************************Signs of small bowel obstruction**************************************\\n\\nThe 3 signs of small bowel obstruction is:\\n\\n- Dilated small bowel\\n\\n- Multiple fluid levels on erect view of plain AXR\\n\\n- Paucity (lack) of colon gas due to the obstruction\\n\\n![[Untitled]]\\n\\n![[Untitled]]\\n\\n- **************************************************Signs of sigmoid volvolus**************************************************\\n\\n1. Dilated sigmoid colon\\n\\n2. Faeces in dilated bowel arising from pelvis\\n\\n![[Untitled]]\\n\\n- ************************************************Limitations of plain AXR************************************************\\n\\nPlain AXR is unable to:\\n\\n- Evaluate mucosal lesions\\n\\n- Demonstrate motility and leaks\\n\\n- Delineate level of obstruction\\n\\nWhen required, perform contrast (barium) studies\\n\\n  \\n\\n### Barium studies (Contrast AXR)\\n\\n  \\n\\nThere are 5 types of barium studies:\\n\\n  \\n\\n- ****************************Barium swallow****************************\\n\\nBarium swallow investigates [[Pathology of the esophagus]].\\n\\nThe patient is then asked to first swallow baking soda crystals, providing a gas contrast that dilates the esophagus, followed by drinking a barium swallow. Plain AXR is then produced in erect view.\\n\\n![[Untitled]]\\n\\n- **********Barium meal**********\\n\\nBarium meal is used to investigate [[Pathology of the stomach]].\\n\\nPatient is asked to fast for 6 hours before procedure.\\n\\nPatient is asked to take a baking sodal crystal to dilate the stomach, followed by drinking barium contrast. Plain AXR is taken in supine view.\\n\\n![[Untitled]]\\n\\n![[Untitled]]\\n\\n- ****************Barium follow through****************\\n\\nBarium follow studies pathology of the small bowel, and is often followed immediately after barium meals and barium swallow.\\n\\nPatient is asked to take laxative the day before, and fast for 6 hours before the procedure.\\n\\nPatient drinks barium continuously until it reaches the colon.\\n\\n![[Untitled]]\\n\\n- **********************************Small bowel enema**********************************\\n\\nSmall bowel enema involves inserting a tube through the GI tract into the 4th part of duodenum, with the subsequent release of barium contrast into small bowel.\\n\\n- ************************Barium enema************************\\n\\nBarium enema is used for investigation pathologies of the large bowel.\\n\\nPatient is asked to take laxative and clear fluid 1 day before examination, with colonic washout with tepid water on day of examination to clense the bowel with faeces.\\n\\nA single contrast (barium contrast) or double contrast (barium contrast followed by air contrast) is used.\\n\\n![[Untitled]]\\n\\n  \\n\\n![[Untitled]]\\n\\n  \\n\\n![[Untitled]]\\n\\n  \\n\\n- CT\\n\\n- Clinical significance of anatomical position of pancreas\\n\\n- Pancreas is retroperitoneal, and in close association with the superior mesenteric vessels and the splenic veins.\\n\\n- Pancreatic cancer resectability depends on whether there is superior mesenteric vessel invasion, or portal vein invasion\\n\\n- Whipple procedure (pancreatoduodenectomy) - resection of the the head of the pancreas, entire duodenum, gallbladder and bile duct - for treatment of chronic pancreatitis and pancreatic adenocarcinoma\\n\\n- Clinical significance of liver\\n\\n- Liver receives dual blood supply - hepatic artery proper, and portal vein, union of the splenic vein and superior mesenteric vein (hence on CT, we first see the portal vein, then followed by the 2 tributaries\\n\\n- 3 hepatic veins - right, middle and left, drains into IVC intrahepatic, Middle hepatic vein separates left and right lobe\\n\\n- CT of cirrhotic vs normal liver\\n\\n- Nodular liver (lumpy bumpy surfaces)\\n\\n- Portosystemic collateral pathways developed - recanalised umbilical vein in fissure for ligamentum teres'"
      ]
     },
     "execution_count": 33,
     "metadata": {},
     "output_type": "execute_result"
    }
   ],
   "source": [
    "data"
   ]
  },
  {
   "cell_type": "code",
   "execution_count": null,
   "id": "2a236840",
   "metadata": {},
   "outputs": [],
   "source": []
  }
 ],
 "metadata": {
  "kernelspec": {
   "display_name": "Python 3",
   "language": "python",
   "name": "python3"
  },
  "language_info": {
   "codemirror_mode": {
    "name": "ipython",
    "version": 3
   },
   "file_extension": ".py",
   "mimetype": "text/x-python",
   "name": "python",
   "nbconvert_exporter": "python",
   "pygments_lexer": "ipython3",
   "version": "3.8.8"
  }
 },
 "nbformat": 4,
 "nbformat_minor": 5
}
